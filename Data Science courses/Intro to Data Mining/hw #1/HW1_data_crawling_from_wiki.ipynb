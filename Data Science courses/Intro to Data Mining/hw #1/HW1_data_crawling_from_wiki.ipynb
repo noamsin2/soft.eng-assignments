{
  "cells": [
    {
      "cell_type": "code",
      "execution_count": 17,
      "metadata": {
        "colab": {
          "base_uri": "https://localhost:8080/"
        },
        "id": "YbzJjPRBaLtw",
        "outputId": "246e11c5-cc86-42e2-fd9e-bd9217ff6fa9"
      },
      "outputs": [
        {
          "name": "stdout",
          "output_type": "stream",
          "text": [
            "19452\n"
          ]
        }
      ],
      "source": [
        "#Author: Noam Karasso\n",
        "\n",
        "import requests\n",
        "import json\n",
        "from bs4 import BeautifulSoup\n",
        "import pandas as pd\n",
        "from google.colab import files\n",
        "import time\n",
        "\n",
        "#getting all languages and shortcuts from wiki for fun ;)\n",
        "url = \"https://meta.wikimedia.org/wiki/Template:List_of_language_names_ordered_by_code\"\n",
        "html = requests.get(url).content.decode('utf-8')\n",
        "soup = BeautifulSoup(html,'html.parser')\n",
        "langs = soup.find_all('td')\n",
        "lang_dict = {}\n",
        "for i in range(len(langs) // 6):\n",
        "  lang_dict[langs[1*i*6].get_text().strip()] = langs[1*i*6+1].get_text().strip()\n",
        "\n",
        "surnames_dict = {}\n",
        "names_dict = {}\n",
        "def get_names(page,length,new_dict):\n",
        "  p = page[length].findAll('a')\n",
        "  if 'Given' in p[0] or 'Disambiguation' in p[0]:\n",
        "    get_names(page,length+1, new_dict)\n",
        "  else:\n",
        "    for name in p:\n",
        "      new_dict.update({name.get_text() : []})\n",
        "      #print(name.get_text())\n",
        "    if length < len(page)-1:\n",
        "      get_names(page,length+1,new_dict)\n",
        "\n",
        "#functions that remove some unwanted pages from the names dictionary\n",
        "def filter_trash():\n",
        "  names_dict.pop(\"Template:R from given name\")\n",
        "  names_dict.pop(\"List of most popular given names\")\n",
        "  names_dict.pop(\"Given name\")\n",
        "  names_dict.pop(\"Given name stubs\")\n",
        "  names_dict.pop(\"Disambiguation pages with given-name-holder lists\")\n",
        "\n",
        "def filter_trash2():\n",
        "  surnames_dict.pop(\"Surname stubs\")\n",
        "  surnames_dict.pop(\"Surname templates\")\n",
        "  surnames_dict.pop(\"Yujiulü clan\")\n",
        "  surnames_dict.pop(\"Surnames by language\")\n",
        "  surnames_dict.pop(\"Surnames by culture\")\n",
        "  surnames_dict.pop(\"Lists of people by surname\")\n",
        "  surnames_dict.pop(\"Lists of surnames\")\n",
        "  surnames_dict.pop(\"Compound surnames\")\n",
        "  surnames_dict.pop(\"Ethnonymic surnames\")\n",
        "  surnames_dict.pop(\"Gendered surnames\")\n",
        "  surnames_dict.pop(\"Occupational surnames\")\n",
        "  surnames_dict.pop(\"Patronymic surnames\")\n",
        "  surnames_dict.pop(\"Redirects from surnames\")\n",
        "  surnames_dict.pop(\"Shi'ite surnames\")\n",
        "  surnames_dict.pop(\"Surnames from given names\")\n",
        "  surnames_dict.pop(\"Surnames from nicknames\")\n",
        "  surnames_dict.pop(\"Surnames from ornamental names\")\n",
        "  surnames_dict.pop(\"Surnames from status names\")\n",
        "  surnames_dict.pop(\"Toponymic surnames\")\n",
        "  surnames_dict.pop(\"Theophoric names\")\n",
        "\n",
        "\n",
        "#iterate through all the pages by taking the \"next page\" url for names\n",
        "l = \"w/index.php?title=Category:Given_names\"\n",
        "while 'until' not in l:\n",
        "  url = f\"https://en.wikipedia.org/{l}\"\n",
        "  html = requests.get(url).content.decode('utf-8')\n",
        "  soup = BeautifulSoup(html, 'html.parser')\n",
        "\n",
        "  pages = soup.findAll('div',{\"class\": \"mw-category-group\"})\n",
        "  get_names(pages,len(pages)-3,names_dict)\n",
        "\n",
        "  a_content = soup.findAll('a',{\"title\": \"Category:Given names\"})\n",
        "  l = a_content[len(a_content)-1]['href']\n",
        "\n",
        "filter_trash()\n",
        "print(len(names_dict))\n",
        "\n",
        "#iterate through all the pages by taking the \"next page\" url for surnames\n",
        "l = \"w/index.php?title=Category:Surnames\"\n",
        "while 'until' not in l:\n",
        "  url = f\"https://en.wikipedia.org/{l}\"\n",
        "  html = requests.get(url).content.decode('utf-8')\n",
        "  soup = BeautifulSoup(html, 'html.parser')\n",
        "\n",
        "  pages = soup.findAll('div',{\"class\": \"mw-category-group\"})\n",
        "  get_names(pages,0,surnames_dict)\n",
        "\n",
        "  a_content = soup.findAll('a',{\"title\": \"Category:Surnames\"})\n",
        "  l = a_content[len(a_content)-1]['href']\n",
        "  #print(l)\n",
        "\n",
        "filter_trash2()\n",
        "#merge both dicts to avoid redundancy\n",
        "names_dict.update(surnames_dict)\n"
      ]
    },
    {
      "cell_type": "markdown",
      "metadata": {
        "id": "OicfatVb8eOQ"
      },
      "source": [
        "# function that extracts the page id and gets all info from it"
      ]
    },
    {
      "cell_type": "code",
      "execution_count": 18,
      "metadata": {
        "id": "piSNq3S-Y_6e"
      },
      "outputs": [],
      "source": [
        "def detailsByID(name):\n",
        "  # Construct the API URL\n",
        "  api_url = f'https://en.wikipedia.org/w/api.php?action=query&titles={name}&prop=pageprops&format=json'\n",
        "  time.sleep(0.01)#might help with the connection error\n",
        "  # Make the API request and convert the response to JSON\n",
        "  response = requests.get(api_url)\n",
        "  #if response.status_code == 200:\n",
        "  response = response.json()\n",
        "  # Extract the page ID from the JSON response and get all data\n",
        "  try:\n",
        "    id = next(iter(response['query']['pages'].values()))['pageprops']['wikibase_item']\n",
        "    #print(name)\n",
        "    url = f\"https://www.wikidata.org/wiki/{id}\"\n",
        "    html = requests.get(url).content.decode('utf-8')\n",
        "    soup = BeautifulSoup(html,'html.parser')\n",
        "    label = soup.find_all('span',{'class':\"wikibase-labelview-text\"})\n",
        "    label = label[0].get_text()\n",
        "    #print(label)\n",
        "    description = soup.find_all('span',{\"class\":\"wikibase-descriptionview-text\"})\n",
        "    description = description[0].get_text()\n",
        "    entries = soup.find_all('ul',{\"class\":\"wikibase-sitelinklistview-listview\"})\n",
        "    entries = entries[0].find_all('span',{\"class\":\"wikibase-sitelinkview-page\"})\n",
        "    for e in entries:\n",
        "      lang = e['lang']\n",
        "      language = lang_dict[lang]\n",
        "      entry = e.get_text()\n",
        "      result_tuples = (label,id,description,language,lang,entry)\n",
        "      result.append(result_tuples)\n",
        "  except KeyError:\n",
        "    pass\n",
        "\n",
        "def tryConnection(name):\n",
        "  try:\n",
        "      detailsByID(name)\n",
        "  except ConnectionResetError:#THIS DOES NOT WORK\n",
        "    tryConnection(name)\n",
        "\n",
        "names_list = list(names_dict.keys())"
      ]
    },
    {
      "cell_type": "markdown",
      "metadata": {
        "id": "lNXO_wr7WxVb"
      },
      "source": [
        "# we'll split the input to 6 parts as a workaround to deal with the connection errors"
      ]
    },
    {
      "cell_type": "code",
      "execution_count": 20,
      "metadata": {
        "id": "TYVGgHRJ8HYH"
      },
      "outputs": [],
      "source": [
        "result = []\n",
        "\n",
        "for i in range(20000):\n",
        "  name = names_list[i]\n",
        "  tryConnection(name)\n",
        "\n",
        "results_df = pd.DataFrame(result, columns=['Label', 'WikiData ID', 'English Description', 'Language', 'Wiki Short Lang', 'Entry'])\n",
        "results_df.to_csv('names1.csv', index=False, encoding='utf-8-sig')\n",
        "#files.download('names1.csv')"
      ]
    },
    {
      "cell_type": "code",
      "execution_count": null,
      "metadata": {
        "id": "1rFZOrCxQVh6"
      },
      "outputs": [],
      "source": []
    },
    {
      "cell_type": "code",
      "execution_count": null,
      "metadata": {
        "colab": {
          "base_uri": "https://localhost:8080/",
          "height": 17
        },
        "id": "MIowuZgKb_Mn",
        "outputId": "eee8c2c3-1dc0-406e-af82-d3969a33c77f"
      },
      "outputs": [
        {
          "data": {
            "application/javascript": "\n    async function download(id, filename, size) {\n      if (!google.colab.kernel.accessAllowed) {\n        return;\n      }\n      const div = document.createElement('div');\n      const label = document.createElement('label');\n      label.textContent = `Downloading \"${filename}\": `;\n      div.appendChild(label);\n      const progress = document.createElement('progress');\n      progress.max = size;\n      div.appendChild(progress);\n      document.body.appendChild(div);\n\n      const buffers = [];\n      let downloaded = 0;\n\n      const channel = await google.colab.kernel.comms.open(id);\n      // Send a message to notify the kernel that we're ready.\n      channel.send({})\n\n      for await (const message of channel.messages) {\n        // Send a message to notify the kernel that we're ready.\n        channel.send({})\n        if (message.buffers) {\n          for (const buffer of message.buffers) {\n            buffers.push(buffer);\n            downloaded += buffer.byteLength;\n            progress.value = downloaded;\n          }\n        }\n      }\n      const blob = new Blob(buffers, {type: 'application/binary'});\n      const a = document.createElement('a');\n      a.href = window.URL.createObjectURL(blob);\n      a.download = filename;\n      div.appendChild(a);\n      a.click();\n      div.remove();\n    }\n  ",
            "text/plain": [
              "<IPython.core.display.Javascript object>"
            ]
          },
          "metadata": {},
          "output_type": "display_data"
        },
        {
          "data": {
            "application/javascript": "download(\"download_bd155c85-8af7-4149-ad9c-2c90bd133349\", \"names2.csv\", 1344547)",
            "text/plain": [
              "<IPython.core.display.Javascript object>"
            ]
          },
          "metadata": {},
          "output_type": "display_data"
        }
      ],
      "source": [
        "result = []\n",
        "\n",
        "for i in range(20000,40000):\n",
        "  name = names_list[i]\n",
        "  tryConnection(name)\n",
        "\n",
        "results_df = pd.DataFrame(result, columns=['Label', 'WikiData ID', 'English Description', 'Language', 'Wiki Short Lang', 'Entry'])\n",
        "results_df.to_csv('names2.csv', index=False, encoding='utf-8-sig')\n",
        "#files.download('names2.csv')"
      ]
    },
    {
      "cell_type": "code",
      "execution_count": null,
      "metadata": {
        "colab": {
          "base_uri": "https://localhost:8080/",
          "height": 17
        },
        "id": "nxEMSRvrZArK",
        "outputId": "61f2cb8c-2a9c-4536-d488-8353006786dd"
      },
      "outputs": [
        {
          "data": {
            "application/javascript": "\n    async function download(id, filename, size) {\n      if (!google.colab.kernel.accessAllowed) {\n        return;\n      }\n      const div = document.createElement('div');\n      const label = document.createElement('label');\n      label.textContent = `Downloading \"${filename}\": `;\n      div.appendChild(label);\n      const progress = document.createElement('progress');\n      progress.max = size;\n      div.appendChild(progress);\n      document.body.appendChild(div);\n\n      const buffers = [];\n      let downloaded = 0;\n\n      const channel = await google.colab.kernel.comms.open(id);\n      // Send a message to notify the kernel that we're ready.\n      channel.send({})\n\n      for await (const message of channel.messages) {\n        // Send a message to notify the kernel that we're ready.\n        channel.send({})\n        if (message.buffers) {\n          for (const buffer of message.buffers) {\n            buffers.push(buffer);\n            downloaded += buffer.byteLength;\n            progress.value = downloaded;\n          }\n        }\n      }\n      const blob = new Blob(buffers, {type: 'application/binary'});\n      const a = document.createElement('a');\n      a.href = window.URL.createObjectURL(blob);\n      a.download = filename;\n      div.appendChild(a);\n      a.click();\n      div.remove();\n    }\n  ",
            "text/plain": [
              "<IPython.core.display.Javascript object>"
            ]
          },
          "metadata": {},
          "output_type": "display_data"
        },
        {
          "data": {
            "application/javascript": "download(\"download_bf93e26a-6c9d-42a9-b9aa-2ba0a491d136\", \"names3.csv\", 1479648)",
            "text/plain": [
              "<IPython.core.display.Javascript object>"
            ]
          },
          "metadata": {},
          "output_type": "display_data"
        }
      ],
      "source": [
        "result = []\n",
        "\n",
        "for i in range(40000,60000):\n",
        "  name = names_list[i]\n",
        "  tryConnection(name)\n",
        "\n",
        "results_df = pd.DataFrame(result, columns=['Label', 'WikiData ID', 'English Description', 'Language', 'Wiki Short Lang', 'Entry'])\n",
        "results_df.to_csv('names3.csv', index=False, encoding='utf-8-sig')\n",
        "#files.download('names3.csv')"
      ]
    },
    {
      "cell_type": "code",
      "execution_count": null,
      "metadata": {
        "colab": {
          "base_uri": "https://localhost:8080/",
          "height": 17
        },
        "id": "UYIKmyMwfaWX",
        "outputId": "256c2f93-e666-4787-a4fa-a69c33bb612a"
      },
      "outputs": [
        {
          "data": {
            "application/javascript": "\n    async function download(id, filename, size) {\n      if (!google.colab.kernel.accessAllowed) {\n        return;\n      }\n      const div = document.createElement('div');\n      const label = document.createElement('label');\n      label.textContent = `Downloading \"${filename}\": `;\n      div.appendChild(label);\n      const progress = document.createElement('progress');\n      progress.max = size;\n      div.appendChild(progress);\n      document.body.appendChild(div);\n\n      const buffers = [];\n      let downloaded = 0;\n\n      const channel = await google.colab.kernel.comms.open(id);\n      // Send a message to notify the kernel that we're ready.\n      channel.send({})\n\n      for await (const message of channel.messages) {\n        // Send a message to notify the kernel that we're ready.\n        channel.send({})\n        if (message.buffers) {\n          for (const buffer of message.buffers) {\n            buffers.push(buffer);\n            downloaded += buffer.byteLength;\n            progress.value = downloaded;\n          }\n        }\n      }\n      const blob = new Blob(buffers, {type: 'application/binary'});\n      const a = document.createElement('a');\n      a.href = window.URL.createObjectURL(blob);\n      a.download = filename;\n      div.appendChild(a);\n      a.click();\n      div.remove();\n    }\n  ",
            "text/plain": [
              "<IPython.core.display.Javascript object>"
            ]
          },
          "metadata": {},
          "output_type": "display_data"
        },
        {
          "data": {
            "application/javascript": "download(\"download_3fac75da-c7c8-4fb2-92cb-9d029ddaaf3f\", \"names4.csv\", 1551132)",
            "text/plain": [
              "<IPython.core.display.Javascript object>"
            ]
          },
          "metadata": {},
          "output_type": "display_data"
        }
      ],
      "source": [
        "result = []\n",
        "\n",
        "for i in range(60000,80000):\n",
        "  name = names_list[i]\n",
        "  tryConnection(name)\n",
        "\n",
        "results_df = pd.DataFrame(result, columns=['Label', 'WikiData ID', 'English Description', 'Language', 'Wiki Short Lang', 'Entry'])\n",
        "results_df.to_csv('names4.csv', index=False, encoding='utf-8-sig')\n",
        "#files.download('names4.csv')"
      ]
    },
    {
      "cell_type": "code",
      "execution_count": null,
      "metadata": {
        "colab": {
          "base_uri": "https://localhost:8080/",
          "height": 17
        },
        "id": "jQnWvgPyfYSa",
        "outputId": "4cb35822-03e9-415f-b3df-c56190b8cc17"
      },
      "outputs": [
        {
          "data": {
            "application/javascript": "\n    async function download(id, filename, size) {\n      if (!google.colab.kernel.accessAllowed) {\n        return;\n      }\n      const div = document.createElement('div');\n      const label = document.createElement('label');\n      label.textContent = `Downloading \"${filename}\": `;\n      div.appendChild(label);\n      const progress = document.createElement('progress');\n      progress.max = size;\n      div.appendChild(progress);\n      document.body.appendChild(div);\n\n      const buffers = [];\n      let downloaded = 0;\n\n      const channel = await google.colab.kernel.comms.open(id);\n      // Send a message to notify the kernel that we're ready.\n      channel.send({})\n\n      for await (const message of channel.messages) {\n        // Send a message to notify the kernel that we're ready.\n        channel.send({})\n        if (message.buffers) {\n          for (const buffer of message.buffers) {\n            buffers.push(buffer);\n            downloaded += buffer.byteLength;\n            progress.value = downloaded;\n          }\n        }\n      }\n      const blob = new Blob(buffers, {type: 'application/binary'});\n      const a = document.createElement('a');\n      a.href = window.URL.createObjectURL(blob);\n      a.download = filename;\n      div.appendChild(a);\n      a.click();\n      div.remove();\n    }\n  ",
            "text/plain": [
              "<IPython.core.display.Javascript object>"
            ]
          },
          "metadata": {},
          "output_type": "display_data"
        },
        {
          "data": {
            "application/javascript": "download(\"download_43deac18-2b6b-4f95-aff3-61066b8b1715\", \"names5.csv\", 1442375)",
            "text/plain": [
              "<IPython.core.display.Javascript object>"
            ]
          },
          "metadata": {},
          "output_type": "display_data"
        }
      ],
      "source": [
        "result = []\n",
        "\n",
        "for i in range(80000,100000):\n",
        "  name = names_list[i]\n",
        "  tryConnection(name)\n",
        "\n",
        "results_df = pd.DataFrame(result, columns=['Label', 'WikiData ID', 'English Description', 'Language', 'Wiki Short Lang', 'Entry'])\n",
        "results_df.to_csv('names5.csv', index=False, encoding='utf-8-sig')\n",
        "#files.download('names5.csv')"
      ]
    },
    {
      "cell_type": "code",
      "execution_count": null,
      "metadata": {
        "colab": {
          "base_uri": "https://localhost:8080/",
          "height": 17
        },
        "id": "72wQnbKlfcBO",
        "outputId": "edb9ee12-4f41-49a8-a833-5a749c8c8ab9"
      },
      "outputs": [
        {
          "data": {
            "application/javascript": "\n    async function download(id, filename, size) {\n      if (!google.colab.kernel.accessAllowed) {\n        return;\n      }\n      const div = document.createElement('div');\n      const label = document.createElement('label');\n      label.textContent = `Downloading \"${filename}\": `;\n      div.appendChild(label);\n      const progress = document.createElement('progress');\n      progress.max = size;\n      div.appendChild(progress);\n      document.body.appendChild(div);\n\n      const buffers = [];\n      let downloaded = 0;\n\n      const channel = await google.colab.kernel.comms.open(id);\n      // Send a message to notify the kernel that we're ready.\n      channel.send({})\n\n      for await (const message of channel.messages) {\n        // Send a message to notify the kernel that we're ready.\n        channel.send({})\n        if (message.buffers) {\n          for (const buffer of message.buffers) {\n            buffers.push(buffer);\n            downloaded += buffer.byteLength;\n            progress.value = downloaded;\n          }\n        }\n      }\n      const blob = new Blob(buffers, {type: 'application/binary'});\n      const a = document.createElement('a');\n      a.href = window.URL.createObjectURL(blob);\n      a.download = filename;\n      div.appendChild(a);\n      a.click();\n      div.remove();\n    }\n  ",
            "text/plain": [
              "<IPython.core.display.Javascript object>"
            ]
          },
          "metadata": {},
          "output_type": "display_data"
        },
        {
          "data": {
            "application/javascript": "download(\"download_e760a203-b088-4671-9839-e1cbc6da5607\", \"names6.csv\", 493973)",
            "text/plain": [
              "<IPython.core.display.Javascript object>"
            ]
          },
          "metadata": {},
          "output_type": "display_data"
        }
      ],
      "source": [
        "result = []\n",
        "\n",
        "for i in range(100000,len(names_list)):\n",
        "  name = names_list[i]\n",
        "  tryConnection(name)\n",
        "\n",
        "results_df = pd.DataFrame(result, columns=['Label', 'WikiData ID', 'English Description', 'Language', 'Wiki Short Lang', 'Entry'])\n",
        "results_df.to_csv('names6.csv', index=False, encoding='utf-8-sig')\n",
        "#files.download('names6.csv')"
      ]
    },
    {
      "attachments": {},
      "cell_type": "markdown",
      "metadata": {
        "id": "Ett2T5of7Gfe"
      },
      "source": [
        "# After we have all the csv files we need we merge them into one and download"
      ]
    },
    {
      "cell_type": "code",
      "execution_count": null,
      "metadata": {
        "colab": {
          "base_uri": "https://localhost:8080/",
          "height": 34
        },
        "id": "Pqy5lij0Akjm",
        "outputId": "d83c8d3d-83df-4121-db87-9c15d46d8eb0"
      },
      "outputs": [
        {
          "data": {
            "application/javascript": "\n    async function download(id, filename, size) {\n      if (!google.colab.kernel.accessAllowed) {\n        return;\n      }\n      const div = document.createElement('div');\n      const label = document.createElement('label');\n      label.textContent = `Downloading \"${filename}\": `;\n      div.appendChild(label);\n      const progress = document.createElement('progress');\n      progress.max = size;\n      div.appendChild(progress);\n      document.body.appendChild(div);\n\n      const buffers = [];\n      let downloaded = 0;\n\n      const channel = await google.colab.kernel.comms.open(id);\n      // Send a message to notify the kernel that we're ready.\n      channel.send({})\n\n      for await (const message of channel.messages) {\n        // Send a message to notify the kernel that we're ready.\n        channel.send({})\n        if (message.buffers) {\n          for (const buffer of message.buffers) {\n            buffers.push(buffer);\n            downloaded += buffer.byteLength;\n            progress.value = downloaded;\n          }\n        }\n      }\n      const blob = new Blob(buffers, {type: 'application/binary'});\n      const a = document.createElement('a');\n      a.href = window.URL.createObjectURL(blob);\n      a.download = filename;\n      div.appendChild(a);\n      a.click();\n      div.remove();\n    }\n  ",
            "text/plain": [
              "<IPython.core.display.Javascript object>"
            ]
          },
          "metadata": {},
          "output_type": "display_data"
        },
        {
          "data": {
            "application/javascript": "download(\"download_932225a4-8960-4d2b-84a0-26734133c41d\", \"names.csv\", 8853404)",
            "text/plain": [
              "<IPython.core.display.Javascript object>"
            ]
          },
          "metadata": {},
          "output_type": "display_data"
        }
      ],
      "source": [
        "df1 = pd.read_csv('/content/names1.csv')\n",
        "df2 = pd.read_csv('/content/names2.csv')\n",
        "df3 = pd.read_csv('/content/names3.csv')\n",
        "df4 = pd.read_csv('/content/names4.csv')\n",
        "df5 = pd.read_csv('/content/names5.csv')\n",
        "df6 = pd.read_csv('/content/names6.csv')\n",
        "\n",
        "df = pd.concat([df1,df2,df3,df4,df5,df6])\n",
        "df.to_csv('names.csv', index=False, encoding='utf-8-sig')\n",
        "files.download('names.csv')"
      ]
    }
  ],
  "metadata": {
    "colab": {
      "provenance": []
    },
    "kernelspec": {
      "display_name": "Python 3",
      "name": "python3"
    },
    "language_info": {
      "name": "python"
    }
  },
  "nbformat": 4,
  "nbformat_minor": 0
}
